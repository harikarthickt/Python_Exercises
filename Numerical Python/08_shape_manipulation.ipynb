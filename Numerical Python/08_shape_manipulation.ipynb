{
 "cells": [
  {
   "cell_type": "markdown",
   "metadata": {},
   "source": [
    "# Shape Manipulation"
   ]
  },
  {
   "cell_type": "code",
   "execution_count": 1,
   "metadata": {},
   "outputs": [],
   "source": [
    "import numpy as np"
   ]
  },
  {
   "cell_type": "code",
   "execution_count": 4,
   "metadata": {},
   "outputs": [
    {
     "data": {
      "text/plain": [
       "array([0.77065971, 0.36083982, 0.443043  , 0.0832457 , 0.30418202,\n",
       "       0.31906861, 0.63498651, 0.12013035, 0.64047905])"
      ]
     },
     "execution_count": 4,
     "metadata": {},
     "output_type": "execute_result"
    }
   ],
   "source": [
    "A = np.random.random(9)\n",
    "A"
   ]
  },
  {
   "cell_type": "code",
   "execution_count": 7,
   "metadata": {},
   "outputs": [
    {
     "data": {
      "text/plain": [
       "array([[0.77065971, 0.36083982, 0.443043  ],\n",
       "       [0.0832457 , 0.30418202, 0.31906861],\n",
       "       [0.63498651, 0.12013035, 0.64047905]])"
      ]
     },
     "execution_count": 7,
     "metadata": {},
     "output_type": "execute_result"
    }
   ],
   "source": [
    "# Reshape returns a new object\n",
    "A.reshape(3,3)"
   ]
  },
  {
   "cell_type": "code",
   "execution_count": 6,
   "metadata": {},
   "outputs": [
    {
     "data": {
      "text/plain": [
       "array([0.77065971, 0.36083982, 0.443043  , 0.0832457 , 0.30418202,\n",
       "       0.31906861, 0.63498651, 0.12013035, 0.64047905])"
      ]
     },
     "execution_count": 6,
     "metadata": {},
     "output_type": "execute_result"
    }
   ],
   "source": [
    "A"
   ]
  },
  {
   "cell_type": "code",
   "execution_count": 9,
   "metadata": {},
   "outputs": [
    {
     "data": {
      "text/plain": [
       "array([[0.77065971, 0.36083982, 0.443043  ],\n",
       "       [0.0832457 , 0.30418202, 0.31906861],\n",
       "       [0.63498651, 0.12013035, 0.64047905]])"
      ]
     },
     "execution_count": 9,
     "metadata": {},
     "output_type": "execute_result"
    }
   ],
   "source": [
    "# shape change in existing object\n",
    "A.shape = (3,3)\n",
    "A"
   ]
  },
  {
   "cell_type": "code",
   "execution_count": 10,
   "metadata": {},
   "outputs": [
    {
     "data": {
      "text/plain": [
       "array([0.77065971, 0.36083982, 0.443043  , 0.0832457 , 0.30418202,\n",
       "       0.31906861, 0.63498651, 0.12013035, 0.64047905])"
      ]
     },
     "execution_count": 10,
     "metadata": {},
     "output_type": "execute_result"
    }
   ],
   "source": [
    "# Ravel returns a new object (converts 2D to 1D)\n",
    "\n",
    "A.ravel()"
   ]
  },
  {
   "cell_type": "code",
   "execution_count": 11,
   "metadata": {},
   "outputs": [
    {
     "data": {
      "text/plain": [
       "array([[0.77065971, 0.36083982, 0.443043  ],\n",
       "       [0.0832457 , 0.30418202, 0.31906861],\n",
       "       [0.63498651, 0.12013035, 0.64047905]])"
      ]
     },
     "execution_count": 11,
     "metadata": {},
     "output_type": "execute_result"
    }
   ],
   "source": [
    "A"
   ]
  },
  {
   "cell_type": "code",
   "execution_count": 13,
   "metadata": {},
   "outputs": [
    {
     "data": {
      "text/plain": [
       "array([0.77065971, 0.36083982, 0.443043  , 0.0832457 , 0.30418202,\n",
       "       0.31906861, 0.63498651, 0.12013035, 0.64047905])"
      ]
     },
     "execution_count": 13,
     "metadata": {},
     "output_type": "execute_result"
    }
   ],
   "source": [
    "# shape change in existing object\n",
    "A.shape = (9)\n",
    "A"
   ]
  },
  {
   "cell_type": "markdown",
   "metadata": {},
   "source": [
    "# Transpose"
   ]
  },
  {
   "cell_type": "code",
   "execution_count": 16,
   "metadata": {},
   "outputs": [
    {
     "data": {
      "text/plain": [
       "array([[0.77065971, 0.36083982, 0.443043  ],\n",
       "       [0.0832457 , 0.30418202, 0.31906861],\n",
       "       [0.63498651, 0.12013035, 0.64047905]])"
      ]
     },
     "execution_count": 16,
     "metadata": {},
     "output_type": "execute_result"
    }
   ],
   "source": [
    "A.shape = (3,3)\n",
    "A"
   ]
  },
  {
   "cell_type": "code",
   "execution_count": 17,
   "metadata": {},
   "outputs": [
    {
     "data": {
      "text/plain": [
       "array([[0.77065971, 0.0832457 , 0.63498651],\n",
       "       [0.36083982, 0.30418202, 0.12013035],\n",
       "       [0.443043  , 0.31906861, 0.64047905]])"
      ]
     },
     "execution_count": 17,
     "metadata": {},
     "output_type": "execute_result"
    }
   ],
   "source": [
    "A.transpose()"
   ]
  }
 ],
 "metadata": {
  "kernelspec": {
   "display_name": "myenv",
   "language": "python",
   "name": "python3"
  },
  "language_info": {
   "codemirror_mode": {
    "name": "ipython",
    "version": 3
   },
   "file_extension": ".py",
   "mimetype": "text/x-python",
   "name": "python",
   "nbconvert_exporter": "python",
   "pygments_lexer": "ipython3",
   "version": "3.11.5"
  }
 },
 "nbformat": 4,
 "nbformat_minor": 2
}
