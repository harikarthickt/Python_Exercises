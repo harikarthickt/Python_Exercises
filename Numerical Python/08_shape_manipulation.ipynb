{
 "cells": [
  {
   "cell_type": "markdown",
   "metadata": {},
   "source": [
    "# Shape Manipulation"
   ]
  },
  {
   "cell_type": "code",
   "execution_count": 1,
   "metadata": {},
   "outputs": [],
   "source": [
    "import numpy as np"
   ]
  },
  {
   "cell_type": "code",
   "execution_count": 2,
   "metadata": {},
   "outputs": [
    {
     "data": {
      "text/plain": [
       "array([0.08382163, 0.17355466, 0.51241698, 0.19522946, 0.2430612 ,\n",
       "       0.47002109, 0.73576591, 0.8740989 , 0.62923929])"
      ]
     },
     "execution_count": 2,
     "metadata": {},
     "output_type": "execute_result"
    }
   ],
   "source": [
    "A = np.random.random(9)\n",
    "A"
   ]
  },
  {
   "cell_type": "code",
   "execution_count": 3,
   "metadata": {},
   "outputs": [
    {
     "data": {
      "text/plain": [
       "array([[0.08382163, 0.17355466, 0.51241698],\n",
       "       [0.19522946, 0.2430612 , 0.47002109],\n",
       "       [0.73576591, 0.8740989 , 0.62923929]])"
      ]
     },
     "execution_count": 3,
     "metadata": {},
     "output_type": "execute_result"
    }
   ],
   "source": [
    "# Reshape returns a new object\n",
    "A.reshape(3,3)"
   ]
  },
  {
   "cell_type": "code",
   "execution_count": 4,
   "metadata": {},
   "outputs": [
    {
     "data": {
      "text/plain": [
       "array([0.08382163, 0.17355466, 0.51241698, 0.19522946, 0.2430612 ,\n",
       "       0.47002109, 0.73576591, 0.8740989 , 0.62923929])"
      ]
     },
     "execution_count": 4,
     "metadata": {},
     "output_type": "execute_result"
    }
   ],
   "source": [
    "A"
   ]
  },
  {
   "cell_type": "code",
   "execution_count": 5,
   "metadata": {},
   "outputs": [
    {
     "data": {
      "text/plain": [
       "array([[0.08382163, 0.17355466, 0.51241698],\n",
       "       [0.19522946, 0.2430612 , 0.47002109],\n",
       "       [0.73576591, 0.8740989 , 0.62923929]])"
      ]
     },
     "execution_count": 5,
     "metadata": {},
     "output_type": "execute_result"
    }
   ],
   "source": [
    "# shape change in existing object\n",
    "A.shape = (3,3)\n",
    "A"
   ]
  },
  {
   "cell_type": "code",
   "execution_count": 6,
   "metadata": {},
   "outputs": [
    {
     "data": {
      "text/plain": [
       "array([0.08382163, 0.17355466, 0.51241698, 0.19522946, 0.2430612 ,\n",
       "       0.47002109, 0.73576591, 0.8740989 , 0.62923929])"
      ]
     },
     "execution_count": 6,
     "metadata": {},
     "output_type": "execute_result"
    }
   ],
   "source": [
    "# Ravel returns a new object (converts 2D to 1D)\n",
    "\n",
    "A.ravel()"
   ]
  },
  {
   "cell_type": "code",
   "execution_count": 7,
   "metadata": {},
   "outputs": [
    {
     "data": {
      "text/plain": [
       "array([[0.08382163, 0.17355466, 0.51241698],\n",
       "       [0.19522946, 0.2430612 , 0.47002109],\n",
       "       [0.73576591, 0.8740989 , 0.62923929]])"
      ]
     },
     "execution_count": 7,
     "metadata": {},
     "output_type": "execute_result"
    }
   ],
   "source": [
    "A"
   ]
  },
  {
   "cell_type": "code",
   "execution_count": 8,
   "metadata": {},
   "outputs": [
    {
     "data": {
      "text/plain": [
       "array([0.08382163, 0.17355466, 0.51241698, 0.19522946, 0.2430612 ,\n",
       "       0.47002109, 0.73576591, 0.8740989 , 0.62923929])"
      ]
     },
     "execution_count": 8,
     "metadata": {},
     "output_type": "execute_result"
    }
   ],
   "source": [
    "# shape change in existing object\n",
    "A.shape = (9)\n",
    "A"
   ]
  },
  {
   "cell_type": "markdown",
   "metadata": {},
   "source": [
    "# Transpose"
   ]
  },
  {
   "cell_type": "code",
   "execution_count": 9,
   "metadata": {},
   "outputs": [
    {
     "data": {
      "text/plain": [
       "array([[0.08382163, 0.17355466, 0.51241698],\n",
       "       [0.19522946, 0.2430612 , 0.47002109],\n",
       "       [0.73576591, 0.8740989 , 0.62923929]])"
      ]
     },
     "execution_count": 9,
     "metadata": {},
     "output_type": "execute_result"
    }
   ],
   "source": [
    "A.shape = (3,3)\n",
    "A"
   ]
  },
  {
   "cell_type": "code",
   "execution_count": 10,
   "metadata": {},
   "outputs": [
    {
     "data": {
      "text/plain": [
       "array([[0.08382163, 0.19522946, 0.73576591],\n",
       "       [0.17355466, 0.2430612 , 0.8740989 ],\n",
       "       [0.51241698, 0.47002109, 0.62923929]])"
      ]
     },
     "execution_count": 10,
     "metadata": {},
     "output_type": "execute_result"
    }
   ],
   "source": [
    "A.transpose()"
   ]
  }
 ],
 "metadata": {
  "kernelspec": {
   "display_name": "Python 3 (ipykernel)",
   "language": "python",
   "name": "python3"
  },
  "language_info": {
   "codemirror_mode": {
    "name": "ipython",
    "version": 3
   },
   "file_extension": ".py",
   "mimetype": "text/x-python",
   "name": "python",
   "nbconvert_exporter": "python",
   "pygments_lexer": "ipython3",
   "version": "3.11.5"
  }
 },
 "nbformat": 4,
 "nbformat_minor": 2
}
