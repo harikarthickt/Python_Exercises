{
 "cells": [
  {
   "cell_type": "code",
   "execution_count": 1,
   "id": "c7531a49",
   "metadata": {},
   "outputs": [],
   "source": [
    "import numpy as np"
   ]
  },
  {
   "cell_type": "markdown",
   "id": "0dcc6248",
   "metadata": {},
   "source": [
    "# Slicing - 1D Array"
   ]
  },
  {
   "cell_type": "code",
   "execution_count": 2,
   "id": "794d7eb6",
   "metadata": {},
   "outputs": [],
   "source": [
    "A = np.arange(10,16)"
   ]
  },
  {
   "cell_type": "code",
   "execution_count": 3,
   "id": "c1252e15",
   "metadata": {},
   "outputs": [
    {
     "data": {
      "text/plain": [
       "array([10, 11, 12, 13, 14, 15])"
      ]
     },
     "execution_count": 3,
     "metadata": {},
     "output_type": "execute_result"
    }
   ],
   "source": [
    "A"
   ]
  },
  {
   "cell_type": "code",
   "execution_count": 4,
   "id": "129a4ba2",
   "metadata": {},
   "outputs": [
    {
     "data": {
      "text/plain": [
       "array([10, 12, 14])"
      ]
     },
     "execution_count": 4,
     "metadata": {},
     "output_type": "execute_result"
    }
   ],
   "source": [
    "# Start index as 0\n",
    "# End index as max length of A\n",
    "# Step Size as 2\n",
    "A[::2]"
   ]
  },
  {
   "cell_type": "code",
   "execution_count": 5,
   "id": "15264815",
   "metadata": {},
   "outputs": [
    {
     "data": {
      "text/plain": [
       "array([11, 12, 13, 14, 15])"
      ]
     },
     "execution_count": 5,
     "metadata": {},
     "output_type": "execute_result"
    }
   ],
   "source": [
    "# Start index as 1\n",
    "# End index as max length of A\n",
    "# Step Size as 1\n",
    "A[1::]"
   ]
  },
  {
   "cell_type": "code",
   "execution_count": 6,
   "id": "4ac37d47",
   "metadata": {},
   "outputs": [
    {
     "data": {
      "text/plain": [
       "array([10, 11, 12])"
      ]
     },
     "execution_count": 6,
     "metadata": {},
     "output_type": "execute_result"
    }
   ],
   "source": [
    "# Start index as 0\n",
    "# End index as 3\n",
    "# Step Size as 1\n",
    "A[:3:]"
   ]
  },
  {
   "cell_type": "code",
   "execution_count": 7,
   "id": "b8c8fdd4",
   "metadata": {},
   "outputs": [
    {
     "data": {
      "text/plain": [
       "array([11, 13])"
      ]
     },
     "execution_count": 7,
     "metadata": {},
     "output_type": "execute_result"
    }
   ],
   "source": [
    "# Start index as 1\n",
    "# End index as 5\n",
    "# Step Size as 2\n",
    "A[1:5:2]"
   ]
  },
  {
   "cell_type": "markdown",
   "id": "e6deca91",
   "metadata": {},
   "source": [
    "# Slicing - 2D Array"
   ]
  },
  {
   "cell_type": "code",
   "execution_count": 8,
   "id": "0af11b05",
   "metadata": {},
   "outputs": [],
   "source": [
    "A = np.arange(10,26).reshape(4,4)"
   ]
  },
  {
   "cell_type": "code",
   "execution_count": 9,
   "id": "7b8aaac6",
   "metadata": {},
   "outputs": [
    {
     "data": {
      "text/plain": [
       "array([[10, 11, 12, 13],\n",
       "       [14, 15, 16, 17],\n",
       "       [18, 19, 20, 21],\n",
       "       [22, 23, 24, 25]])"
      ]
     },
     "execution_count": 9,
     "metadata": {},
     "output_type": "execute_result"
    }
   ],
   "source": [
    "A"
   ]
  },
  {
   "cell_type": "code",
   "execution_count": 10,
   "id": "e2072a3e",
   "metadata": {},
   "outputs": [
    {
     "data": {
      "text/plain": [
       "array([[10, 11, 12, 13],\n",
       "       [14, 15, 16, 17],\n",
       "       [18, 19, 20, 21],\n",
       "       [22, 23, 24, 25]])"
      ]
     },
     "execution_count": 10,
     "metadata": {},
     "output_type": "execute_result"
    }
   ],
   "source": [
    "# All Rows\n",
    "# All Columns\n",
    "A[:,:]"
   ]
  },
  {
   "cell_type": "code",
   "execution_count": 11,
   "id": "baacb1f1",
   "metadata": {},
   "outputs": [
    {
     "data": {
      "text/plain": [
       "array([10, 11, 12, 13])"
      ]
     },
     "execution_count": 11,
     "metadata": {},
     "output_type": "execute_result"
    }
   ],
   "source": [
    "# First Row (start:stop:step)\n",
    "# All Columns (start:stop:step)\n",
    "A[0,:]"
   ]
  },
  {
   "cell_type": "code",
   "execution_count": 12,
   "id": "6ce0bdfa",
   "metadata": {},
   "outputs": [
    {
     "data": {
      "text/plain": [
       "array([14, 15, 16, 17])"
      ]
     },
     "execution_count": 12,
     "metadata": {},
     "output_type": "execute_result"
    }
   ],
   "source": [
    "# Second Row (start:stop:step)\n",
    "# All Columns (start:stop:step)\n",
    "A[1,:]"
   ]
  },
  {
   "cell_type": "code",
   "execution_count": 13,
   "id": "613ec95a",
   "metadata": {},
   "outputs": [
    {
     "data": {
      "text/plain": [
       "array([18, 19, 20, 21])"
      ]
     },
     "execution_count": 13,
     "metadata": {},
     "output_type": "execute_result"
    }
   ],
   "source": [
    "# Third Row  (start:stop:step)\n",
    "# All Columns (start:stop:step)\n",
    "A[2,:]"
   ]
  },
  {
   "cell_type": "code",
   "execution_count": 14,
   "id": "648ff1b1",
   "metadata": {},
   "outputs": [
    {
     "data": {
      "text/plain": [
       "array([[10, 11, 12, 13],\n",
       "       [14, 15, 16, 17]])"
      ]
     },
     "execution_count": 14,
     "metadata": {},
     "output_type": "execute_result"
    }
   ],
   "source": [
    "# Two Rows (start:stop:step)\n",
    "# All Columns (start:stop:step)\n",
    "A[:2,:]"
   ]
  },
  {
   "cell_type": "code",
   "execution_count": 15,
   "id": "af584bbf",
   "metadata": {},
   "outputs": [
    {
     "data": {
      "text/plain": [
       "array([[10, 11],\n",
       "       [14, 15]])"
      ]
     },
     "execution_count": 15,
     "metadata": {},
     "output_type": "execute_result"
    }
   ],
   "source": [
    "# Two Rows (start:stop:step)\n",
    "# Two Columns (start:stop:step)\n",
    "A[:2,:2]"
   ]
  },
  {
   "cell_type": "code",
   "execution_count": 16,
   "id": "9fed46f2",
   "metadata": {},
   "outputs": [
    {
     "data": {
      "text/plain": [
       "array([[10, 12],\n",
       "       [18, 20]])"
      ]
     },
     "execution_count": 16,
     "metadata": {},
     "output_type": "execute_result"
    }
   ],
   "source": [
    "# Two Rows (start:stop:step)\n",
    "# Two Columns (start:stop:step)\n",
    "A[::2,::2]"
   ]
  }
 ],
 "metadata": {
  "kernelspec": {
   "display_name": "Python 3 (ipykernel)",
   "language": "python",
   "name": "python3"
  },
  "language_info": {
   "codemirror_mode": {
    "name": "ipython",
    "version": 3
   },
   "file_extension": ".py",
   "mimetype": "text/x-python",
   "name": "python",
   "nbconvert_exporter": "python",
   "pygments_lexer": "ipython3",
   "version": "3.11.5"
  }
 },
 "nbformat": 4,
 "nbformat_minor": 5
}
